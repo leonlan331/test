{
 "cells": [
  {
   "cell_type": "code",
   "execution_count": null,
   "id": "c77ea2e6",
   "metadata": {},
   "outputs": [
    {
     "name": "stdout",
     "output_type": "stream",
     "text": [
      "name 'fggvbfdb' is not defined\n",
      "name 'bfdggd' is not defined\n",
      "體重或身高有誤,無法計算bmi\n"
     ]
    }
   ],
   "source": [
    "try:\n",
    "    try:\n",
    "        try:\n",
    "            w=eval(input('體重(kg):'))\n",
    "        except ValueError:\n",
    "            print('輸入格式錯誤')\n",
    "            if w>200 or w<30:\n",
    "                raise Exception ('體重不在範圍（30-200）内')\n",
    "            print(f'體重(kg):{w:.2f}')\n",
    "        except Exception as e:\n",
    "            print (e)\n",
    "\n",
    "        try:\n",
    "            h=eval(input('身高(cm):'))\n",
    "        except ValueError:\n",
    "            print('輸入格式錯誤')\n",
    "            if h>220 or h<120:   \n",
    "                raise Exception ('身高不在範圍（120-220）内')\n",
    "            print(f'身高(cm):{h:.2f}')\n",
    "        except Exception as e:\n",
    "            print (e)\n",
    "\n",
    "        bmi=(w/(h/100)**2)\n",
    "        if w>200 or w<30 or h>220 or h<120:\n",
    "            raise Exception ('體重或身高有誤,無法計算bmi')\n",
    "        print(f'bmi:{bmi:.2f}')\n",
    "    except Exception as e :\n",
    "        print(e)\n",
    "except :\n",
    "    print('不明錯誤')\n"
   ]
  },
  {
   "cell_type": "code",
   "execution_count": null,
   "id": "7ab39bc6",
   "metadata": {},
   "outputs": [
    {
     "name": "stdout",
     "output_type": "stream",
     "text": [
      "這是ture的程式區塊\n",
      "程式結束\n"
     ]
    }
   ],
   "source": [
    "if True:\n",
    "    print('這是ture的程式區塊')\n",
    "else :\n",
    "    print('這是false的程式代碼')\n",
    "print('程式結束')"
   ]
  },
  {
   "cell_type": "code",
   "execution_count": null,
   "id": "4f35a70e",
   "metadata": {},
   "outputs": [
    {
     "name": "stdout",
     "output_type": "stream",
     "text": [
      "可以考駕照\n"
     ]
    }
   ],
   "source": [
    "age:int=eval(input('請輸入年齡:'))\n",
    "if age >=18:\n",
    "    print('可以考駕照')\n",
    "else:\n",
    "    print('不能考駕照')"
   ]
  },
  {
   "cell_type": "code",
   "execution_count": 37,
   "id": "a4d84f7f",
   "metadata": {},
   "outputs": [
    {
     "name": "stdout",
     "output_type": "stream",
     "text": [
      "分數大於300\n",
      "software ending...\n"
     ]
    }
   ],
   "source": [
    "try:\n",
    "    score:int=int(input('請輸入學生成績(最高300分)'))\n",
    "    if score>300:\n",
    "        raise Exception('分數大於300')\n",
    "\n",
    "    add:str=input('學生是否符合加分條件(yes,no)')\n",
    "    \n",
    "    if add=='yes':\n",
    "        score*=1.05\n",
    "\n",
    "        if score>300:\n",
    "            score=300\n",
    "    \n",
    "    print(round(score))\n",
    "except ValueError:\n",
    "    print('type error')\n",
    "except Exception as e:\n",
    "    print(e)\n",
    "\n",
    "print('software ending...')"
   ]
  },
  {
   "cell_type": "code",
   "execution_count": 48,
   "id": "a0882802",
   "metadata": {},
   "outputs": [
    {
     "name": "stdout",
     "output_type": "stream",
     "text": [
      "error\n"
     ]
    }
   ],
   "source": [
    "try:\n",
    "    value:int=int(input('please type a num:'))\n",
    "    if value >=120 and value<=220 :\n",
    "        print ('num is in 120 to 220 ')\n",
    "        \n",
    "    if value<=120:\n",
    "        print ('too small')\n",
    "    if value>220:\n",
    "        print ('too big')\n",
    "except:\n",
    "    print ('error')"
   ]
  },
  {
   "cell_type": "code",
   "execution_count": 70,
   "id": "2d1422ae",
   "metadata": {},
   "outputs": [
    {
     "name": "stdout",
     "output_type": "stream",
     "text": [
      "輸入發生錯誤\n"
     ]
    }
   ],
   "source": [
    "try:\n",
    "    height:int = int(input('請輸入你的身高(公分 cm):'))\n",
    "    if height < 120 or height > 220:\n",
    "        raise Exception(f'輸入的身高: {height} 公分 不在 120 ~ 220 範圍內')\n",
    "    height /= 100\n",
    "    weight = eval(input('請輸入你的體重(公斤 kg):'))\n",
    "    if weight < 30.0 or weight > 200.0:\n",
    "        raise Exception(f'輸入的體重: {weight:.2f} 公斤 不在 30 ~ 200 範圍內')\n",
    "    bmicalculate = weight / height ** 2\n",
    "except ValueError:\n",
    "    print('輸入發生錯誤')\n",
    "except Exception as e :\n",
    "    print(e)\n",
    "else:\n",
    "    print(f'你的身高:{height*100} 公分')\n",
    "    print(f'你的體重:{weight:.2f} 公斤')\n",
    "    print(f'你的 BMI值為:{bmicalculate}')"
   ]
  },
  {
   "cell_type": "code",
   "execution_count": 76,
   "id": "1056e460",
   "metadata": {},
   "outputs": [
    {
     "name": "stdout",
     "output_type": "stream",
     "text": [
      "體重輸入錯誤: 輸入格式錯誤（體重需為數字）\n",
      "發生錯誤: 輸入格式錯誤（體重需為數字）\n"
     ]
    }
   ],
   "source": [
    "try:\n",
    "    try:\n",
    "        input_w = input('體重(kg): ')\n",
    "        try:\n",
    "            w = float(input_w)\n",
    "        except ValueError:\n",
    "            raise ValueError('輸入格式錯誤（體重需為數字）')\n",
    "        if w > 200 or w < 30:\n",
    "            raise ValueError('體重不在範圍（30-200）內')\n",
    "        print(f'體重(kg): {w:.2f}')\n",
    "    except ValueError as e:\n",
    "        print('體重輸入錯誤:', e)\n",
    "        raise\n",
    "\n",
    "    try:\n",
    "        input_h = input('身高(cm): ')\n",
    "        try:\n",
    "            h = float(input_h)\n",
    "        except ValueError:\n",
    "            raise ValueError('輸入格式錯誤（身高需為數字）')\n",
    "        if h > 220 or h < 120:\n",
    "            raise ValueError('身高不在範圍（120-220）內')\n",
    "        print(f'身高(cm): {h:.2f}')\n",
    "    except ValueError as e:\n",
    "        print('身高輸入錯誤:', e)\n",
    "        raise\n",
    "\n",
    "    bmi = w / (h / 100) ** 2\n",
    "    print(f'BMI: {bmi:.2f}')\n",
    "\n",
    "except Exception as e:\n",
    "    print('發生錯誤:', e)\n"
   ]
  }
 ],
 "metadata": {
  "kernelspec": {
   "display_name": "base",
   "language": "python",
   "name": "python3"
  },
  "language_info": {
   "codemirror_mode": {
    "name": "ipython",
    "version": 3
   },
   "file_extension": ".py",
   "mimetype": "text/x-python",
   "name": "python",
   "nbconvert_exporter": "python",
   "pygments_lexer": "ipython3",
   "version": "3.12.9"
  }
 },
 "nbformat": 4,
 "nbformat_minor": 5
}
