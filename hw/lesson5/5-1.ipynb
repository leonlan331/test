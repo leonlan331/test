{
 "cells": [
  {
   "cell_type": "code",
   "execution_count": 1,
   "id": "fc8b067e",
   "metadata": {},
   "outputs": [
    {
     "name": "stdout",
     "output_type": "stream",
     "text": [
      "輸入發生錯誤\n"
     ]
    }
   ],
   "source": [
    "###BMI計算器\n",
    "try:\n",
    "    height:int = int(input('請輸入你的身高(公分 cm):'))\n",
    "    if height < 120 or height > 220:\n",
    "        raise Exception(f'輸入的身高: {height} 公分 不在 120 ~ 220 範圍內')\n",
    "    height /= 100\n",
    "    weight = eval(input('請輸入你的體重(公斤 kg):'))\n",
    "    if weight < 30.0 or weight > 200.0:\n",
    "        raise Exception(f'輸入的體重: {weight:.2f} 公斤 不在 30 ~ 200 範圍內')\n",
    "    bmicalculate = weight / height ** 2\n",
    "except ValueError:\n",
    "    print('輸入發生錯誤')\n",
    "except Exception as e :\n",
    "    print(e)\n",
    "else:\n",
    "    print(f'你的身高:{height*100} 公分')\n",
    "    print(f'你的體重:{weight:.2f} 公斤')\n",
    "    print(f'你的 BMI值為:{bmicalculate}')"
   ]
  },
  {
   "cell_type": "code",
   "execution_count": 5,
   "id": "c46d286f",
   "metadata": {},
   "outputs": [
    {
     "name": "stdout",
     "output_type": "stream",
     "text": [
      "丙\n"
     ]
    }
   ],
   "source": [
    "scores=int(input('請輸入學生國籍1-100'))\n",
    "\n",
    "if scores<60:\n",
    "    print('丁')\n",
    "elif scores<70:\n",
    "    print('丙')\n",
    "elif scores<80:\n",
    "    print('乙')\n",
    "elif scores<90:\n",
    "    print('甲')\n",
    "else:\n",
    "    print('優')"
   ]
  },
  {
   "cell_type": "code",
   "execution_count": 9,
   "id": "d34e0d9c",
   "metadata": {},
   "outputs": [
    {
     "name": "stdout",
     "output_type": "stream",
     "text": [
      "給料はなしです\n"
     ]
    }
   ],
   "source": [
    "ch=int(input('chinese score:'))\n",
    "ma=int(input('ma score:'))\n",
    "\n",
    "if ch == 100 and ma == 100:\n",
    "    print('給料は1000円です')\n",
    "elif ch == 100 or ma == 100:\n",
    "    print('給料は500円です')\n",
    "else:\n",
    "    print('給料はなしです')"
   ]
  },
  {
   "cell_type": "code",
   "execution_count": 12,
   "id": "448ff559",
   "metadata": {},
   "outputs": [],
   "source": [
    "n=0\n",
    "n+=1\n",
    "n+=2\n",
    "n+=3\n",
    "n+=4\n",
    "n+=5\n",
    "n+=6\n",
    "n+=7\n",
    "n+=8\n",
    "n+=9\n",
    "n+=10"
   ]
  },
  {
   "cell_type": "code",
   "execution_count": 14,
   "id": "66cc1d2a",
   "metadata": {},
   "outputs": [
    {
     "name": "stdout",
     "output_type": "stream",
     "text": [
      "1\n",
      "3\n",
      "5\n",
      "7\n",
      "9\n"
     ]
    }
   ],
   "source": [
    "for i in range (1,10,2):\n",
    "    print(i)\n"
   ]
  },
  {
   "cell_type": "code",
   "execution_count": 21,
   "id": "0671c298",
   "metadata": {},
   "outputs": [
    {
     "name": "stdout",
     "output_type": "stream",
     "text": [
      "total=55\n"
     ]
    }
   ],
   "source": [
    "n=int(input('n:'))\n",
    "total=0\n",
    "for i in range(1,n+1):\n",
    "    total+=i\n",
    "print(f'total={total}')"
   ]
  },
  {
   "cell_type": "code",
   "execution_count": 38,
   "id": "9a089226",
   "metadata": {},
   "outputs": [
    {
     "name": "stdout",
     "output_type": "stream",
     "text": [
      "1*1=1\t1*2=2\t1*3=3\t1*4=4\t1*5=5\t1*6=6\t1*7=7\t1*8=8\t1*9=9\t\n",
      "2*1=2\t2*2=4\t2*3=6\t2*4=8\t2*5=10\t2*6=12\t2*7=14\t2*8=16\t2*9=18\t\n",
      "3*1=3\t3*2=6\t3*3=9\t3*4=12\t3*5=15\t3*6=18\t3*7=21\t3*8=24\t3*9=27\t\n",
      "4*1=4\t4*2=8\t4*3=12\t4*4=16\t4*5=20\t4*6=24\t4*7=28\t4*8=32\t4*9=36\t\n",
      "5*1=5\t5*2=10\t5*3=15\t5*4=20\t5*5=25\t5*6=30\t5*7=35\t5*8=40\t5*9=45\t\n",
      "6*1=6\t6*2=12\t6*3=18\t6*4=24\t6*5=30\t6*6=36\t6*7=42\t6*8=48\t6*9=54\t\n",
      "7*1=7\t7*2=14\t7*3=21\t7*4=28\t7*5=35\t7*6=42\t7*7=49\t7*8=56\t7*9=63\t\n",
      "8*1=8\t8*2=16\t8*3=24\t8*4=32\t8*5=40\t8*6=48\t8*7=56\t8*8=64\t8*9=72\t\n",
      "9*1=9\t9*2=18\t9*3=27\t9*4=36\t9*5=45\t9*6=54\t9*7=63\t9*8=72\t9*9=81\t\n"
     ]
    }
   ],
   "source": [
    "for i in range(1,10):\n",
    "    for j in range(1,10):\n",
    "        print(f'{i}*{j}={i*j}',end='\\t')\n",
    "    print( )"
   ]
  },
  {
   "cell_type": "code",
   "execution_count": 41,
   "id": "49ba16c5",
   "metadata": {},
   "outputs": [
    {
     "name": "stdout",
     "output_type": "stream",
     "text": [
      "恭喜，存了12月，已經存了31840元\n"
     ]
    }
   ],
   "source": [
    "deposite=0\n",
    "month=0\n",
    "while deposite<30000:\n",
    "    month +=1\n",
    "    input_value=int(input(f'請輸入{month}月份存款'))\n",
    "    deposite += input_value\n",
    "print(f'恭喜，存了{month}月，已經存了{deposite}元')"
   ]
  },
  {
   "cell_type": "code",
   "execution_count": 49,
   "id": "e1f10c1d",
   "metadata": {},
   "outputs": [
    {
     "name": "stdout",
     "output_type": "stream",
     "text": [
      "software end\n"
     ]
    }
   ],
   "source": [
    "while True:\n",
    "    value = input('請輸入整數，輸入[q]離開:')\n",
    "    if value == 'q':\n",
    "        break\n",
    "    elif(int(value)%2==0):\n",
    "        continue\n",
    "    else:\n",
    "        print(f'{value}的平方是{int(value)**2}')\n",
    "print ('software end')"
   ]
  },
  {
   "cell_type": "code",
   "execution_count": 52,
   "id": "331dfe8d",
   "metadata": {},
   "outputs": [
    {
     "name": "stdout",
     "output_type": "stream",
     "text": [
      "=============猜數字遊戲===========\n",
      "\n",
      "再大一點\n",
      "您已經猜了1次\n",
      "再大一點\n",
      "您已經猜了2次\n",
      "再大一點\n",
      "您已經猜了3次\n",
      "再大一點\n",
      "您已經猜了4次\n",
      "再大一點\n",
      "您已經猜了5次\n",
      "賓果!猜對了, 答案是:99\n",
      "您猜了6次\n",
      "遊戲結束\n"
     ]
    }
   ],
   "source": [
    "import random\n",
    "\n",
    "min = 1\n",
    "max = 99\n",
    "count = 0\n",
    "target = random.randint(min, max)\n",
    "#print(target)\n",
    "print(\"=============猜數字遊戲===========\\n\");\n",
    "while(True):\n",
    "    count += 1\n",
    "    keyin = int(input(f\"猜數字範圍{min}~{max}:\"))\n",
    "    if(keyin >= min and keyin <= max):\n",
    "        if(keyin == target):\n",
    "            print(f\"賓果!猜對了, 答案是:{target}\")\n",
    "            print(f\"您猜了{count}次\")\n",
    "            break\n",
    "        elif(keyin>target):\n",
    "            print(\"再小一點\")\n",
    "            max = keyin - 1\n",
    "        elif(keyin<target):\n",
    "            print(\"再大一點\")\n",
    "            min = keyin + 1\n",
    "        print(f\"您已經猜了{count}次\") \n",
    "    else:\n",
    "        print(\"請輸入提示範圍內的數字\")\n",
    "\n",
    "print(\"遊戲結束\")"
   ]
  }
 ],
 "metadata": {
  "kernelspec": {
   "display_name": "base",
   "language": "python",
   "name": "python3"
  },
  "language_info": {
   "codemirror_mode": {
    "name": "ipython",
    "version": 3
   },
   "file_extension": ".py",
   "mimetype": "text/x-python",
   "name": "python",
   "nbconvert_exporter": "python",
   "pygments_lexer": "ipython3",
   "version": "3.12.9"
  }
 },
 "nbformat": 4,
 "nbformat_minor": 5
}
