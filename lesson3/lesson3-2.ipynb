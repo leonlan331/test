{
 "cells": [
  {
   "cell_type": "code",
   "execution_count": 2,
   "id": "a63d1b4b",
   "metadata": {},
   "outputs": [
    {
     "name": "stdout",
     "output_type": "stream",
     "text": [
      "15\n"
     ]
    }
   ],
   "source": [
    "n=5\n",
    "n+=10\n",
    "print(n)"
   ]
  },
  {
   "cell_type": "code",
   "execution_count": 20,
   "id": "10b0cc5b",
   "metadata": {},
   "outputs": [
    {
     "name": "stdout",
     "output_type": "stream",
     "text": [
      "a= 3\n",
      "c= 6\n",
      "angles=30.00\n"
     ]
    }
   ],
   "source": [
    "import math\n",
    "a=eval(input('a='))\n",
    "c=eval(input('c='))\n",
    "radian=math.asin(a/c)\n",
    "degree=math.degrees(radian)\n",
    "print('a=',a)\n",
    "print('c=',c)\n",
    "print(f'angles={degree:.2f}')\n"
   ]
  },
  {
   "cell_type": "code",
   "execution_count": 11,
   "id": "e79f9f7a",
   "metadata": {},
   "outputs": [
    {
     "name": "stdout",
     "output_type": "stream",
     "text": [
      "ch score:92.38,ma score:100\n"
     ]
    }
   ],
   "source": [
    "ch=92.3756\n",
    "ma=100\n",
    "print(f'ch score:{ch:.2f},ma score:{ma}')"
   ]
  }
 ],
 "metadata": {
  "kernelspec": {
   "display_name": "base",
   "language": "python",
   "name": "python3"
  },
  "language_info": {
   "codemirror_mode": {
    "name": "ipython",
    "version": 3
   },
   "file_extension": ".py",
   "mimetype": "text/x-python",
   "name": "python",
   "nbconvert_exporter": "python",
   "pygments_lexer": "ipython3",
   "version": "3.12.9"
  }
 },
 "nbformat": 4,
 "nbformat_minor": 5
}
