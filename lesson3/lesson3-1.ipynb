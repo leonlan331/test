{
 "cells": [
  {
   "cell_type": "code",
   "execution_count": 2,
   "id": "4adec6ea",
   "metadata": {},
   "outputs": [
    {
     "data": {
      "text/plain": [
       "25"
      ]
     },
     "execution_count": 2,
     "metadata": {},
     "output_type": "execute_result"
    }
   ],
   "source": [
    "5+10\n",
    "20+5"
   ]
  },
  {
   "cell_type": "code",
   "execution_count": 3,
   "id": "c68b3c66",
   "metadata": {},
   "outputs": [
    {
     "data": {
      "text/plain": [
       "40"
      ]
     },
     "execution_count": 3,
     "metadata": {},
     "output_type": "execute_result"
    }
   ],
   "source": [
    "n=15\n",
    "m=25\n",
    "m+n"
   ]
  },
  {
   "cell_type": "code",
   "execution_count": 7,
   "id": "26be9673",
   "metadata": {},
   "outputs": [
    {
     "name": "stdout",
     "output_type": "stream",
     "text": [
      "plus total: 23\n"
     ]
    }
   ],
   "source": [
    "value1=int(input('please fillin 1st nature number '))\n",
    "value2=int(input('please fillin 2nd nature number '))\n",
    "total=value1+value2\n",
    "print('plus total:',total)"
   ]
  },
  {
   "cell_type": "code",
   "execution_count": 8,
   "id": "cb209685",
   "metadata": {},
   "outputs": [
    {
     "name": "stdout",
     "output_type": "stream",
     "text": [
      "長: 3\n",
      "寬: 2.5\n",
      "面積: 7.5\n"
     ]
    }
   ],
   "source": [
    "widge=eval(input('please fillin widge '))\n",
    "height=eval(input('please fillin height '))\n",
    "area=widge*height\n",
    "print('長:',widge)\n",
    "print('寬:',height)\n",
    "print('面積:',area)"
   ]
  }
 ],
 "metadata": {
  "kernelspec": {
   "display_name": "base",
   "language": "python",
   "name": "python3"
  },
  "language_info": {
   "codemirror_mode": {
    "name": "ipython",
    "version": 3
   },
   "file_extension": ".py",
   "mimetype": "text/x-python",
   "name": "python",
   "nbconvert_exporter": "python",
   "pygments_lexer": "ipython3",
   "version": "3.12.9"
  }
 },
 "nbformat": 4,
 "nbformat_minor": 5
}
